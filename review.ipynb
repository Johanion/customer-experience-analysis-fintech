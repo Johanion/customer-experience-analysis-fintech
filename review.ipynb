{
 "cells": [
  {
   "cell_type": "code",
   "execution_count": 2,
   "id": "4458f27c",
   "metadata": {},
   "outputs": [
    {
     "name": "stdout",
     "output_type": "stream",
     "text": [
      "                                    content  score                  at\n",
      "0                                v.good app      4 2025-06-08 23:49:09\n",
      "1                             very good app      1 2025-06-08 13:24:23\n",
      "2  Very amazing app indeed. I'm enjoying it      5 2025-06-08 09:52:23\n",
      "3                                      Best      5 2025-06-08 06:25:37\n",
      "4                                  20 years      5 2025-06-08 00:04:48\n",
      "cbe_reviews.csv\n"
     ]
    }
   ],
   "source": [
    "from google_play_scraper import Sort , reviews\n",
    "data, continuation_token= reviews(\"com.combanketh.mobilebanking\",\n",
    "            lang='en',\n",
    "            country=\"et\",\n",
    "            sort= Sort.NEWEST,\n",
    "            count=400\n",
    "\n",
    ")\n",
    "\n",
    "# Convert to DataFrame with selected columns\n",
    "import pandas as pd\n",
    "df = pd.DataFrame(data)[['content', 'score', 'at']]\n",
    "print(df.head())\n",
    "\n",
    "# rename columns \n",
    "df.columns = ['review', 'rating', 'date']\n",
    "\n",
    "# save to csv\n",
    "csv_file = \"cbe_reviews.csv\"\n",
    "df.to_csv(csv_file, index=False)\n",
    "\n",
    "df[\"bank\"]= \"CBE\"\n",
    "df[\"source\"]= \"play store\"\n",
    "\n",
    "df.to_csv(csv_file, index=False)\n",
    "\n",
    "print(csv_file)\n",
    "\n"
   ]
  },
  {
   "cell_type": "markdown",
   "id": "0c38d046",
   "metadata": {},
   "source": [
    "abyssinia bank review"
   ]
  },
  {
   "cell_type": "code",
   "execution_count": 3,
   "id": "470fa207",
   "metadata": {},
   "outputs": [
    {
     "name": "stdout",
     "output_type": "stream",
     "text": [
      "                                             content  score  \\\n",
      "0                                   it's not working      3   \n",
      "1  Hello, I’m facing a problem with the BOA Mobil...      1   \n",
      "2                                        exceptional      5   \n",
      "3                               BoA Mobile good bank      5   \n",
      "4                    this is worest app 24/7 loading      1   \n",
      "\n",
      "                   at  \n",
      "0 2025-06-04 23:57:36  \n",
      "1 2025-06-03 04:21:34  \n",
      "2 2025-06-02 22:32:35  \n",
      "3 2025-06-02 02:25:12  \n",
      "4 2025-06-01 03:51:10  \n",
      "abyssinia_review.csv\n"
     ]
    }
   ],
   "source": [
    "from google_play_scraper import Sort , reviews\n",
    "data, continuation_token= reviews(\"com.boa.boaMobileBanking\",\n",
    "            lang='en',\n",
    "            country=\"et\",\n",
    "            sort= Sort.NEWEST,\n",
    "            count=400\n",
    "\n",
    ")\n",
    "\n",
    "# Convert to DataFrame with selected columns\n",
    "import pandas as pd\n",
    "df = pd.DataFrame(data)[['content', 'score', 'at']]\n",
    "print(df.head())\n",
    "\n",
    "# rename columns \n",
    "df.columns = ['review', 'rating', 'date']\n",
    "\n",
    "# save to csv\n",
    "csv_file = \"abyssinia_review.csv\"\n",
    "df.to_csv(csv_file, index=False)\n",
    "\n",
    "df[\"bank\"]= \"abyssinia\"\n",
    "df[\"source\"]= \"play store\"\n",
    "\n",
    "df.to_csv(csv_file, index=False)\n",
    "\n",
    "print(csv_file)\n",
    "\n"
   ]
  },
  {
   "cell_type": "markdown",
   "id": "167f6fe1",
   "metadata": {},
   "source": [
    "Dashen bank"
   ]
  },
  {
   "cell_type": "code",
   "execution_count": 1,
   "id": "eb0fb619",
   "metadata": {},
   "outputs": [
    {
     "name": "stdout",
     "output_type": "stream",
     "text": [
      "                                             content  score  \\\n",
      "0                      this app is good for you guys      5   \n",
      "1                                                wow      5   \n",
      "2                                              kalid      5   \n",
      "3  I like this mobile banking app very much. Over...      2   \n",
      "4                                               love      3   \n",
      "\n",
      "                   at  \n",
      "0 2025-06-08 23:49:55  \n",
      "1 2025-06-08 13:37:09  \n",
      "2 2025-06-07 12:04:22  \n",
      "3 2025-06-06 22:40:29  \n",
      "4 2025-06-05 12:15:44  \n",
      "dashen_review.csv\n"
     ]
    }
   ],
   "source": [
    "from google_play_scraper import Sort , reviews\n",
    "data, continuation_token= reviews(\"com.dashen.dashensuperapp\",\n",
    "            lang='en',\n",
    "            country=\"et\",\n",
    "            sort= Sort.NEWEST,\n",
    "            count=400\n",
    "\n",
    ")\n",
    "\n",
    "# Convert to DataFrame with selected columns\n",
    "import pandas as pd\n",
    "df = pd.DataFrame(data)[['content', 'score', 'at']]\n",
    "print(df.head())\n",
    "\n",
    "# rename columns \n",
    "df.columns = ['review', 'rating', 'date']\n",
    "\n",
    "# save to csv\n",
    "csv_file = \"dashen_review.csv\"\n",
    "df.to_csv(csv_file, index=False)\n",
    "\n",
    "df[\"bank\"]= \"dashen\"\n",
    "df[\"source\"]= \"play store\"\n",
    "\n",
    "df.to_csv(csv_file, index=False)\n",
    "\n",
    "print(csv_file)\n",
    "\n"
   ]
  }
 ],
 "metadata": {
  "kernelspec": {
   "display_name": "Python 3",
   "language": "python",
   "name": "python3"
  },
  "language_info": {
   "codemirror_mode": {
    "name": "ipython",
    "version": 3
   },
   "file_extension": ".py",
   "mimetype": "text/x-python",
   "name": "python",
   "nbconvert_exporter": "python",
   "pygments_lexer": "ipython3",
   "version": "3.11.9"
  }
 },
 "nbformat": 4,
 "nbformat_minor": 5
}
