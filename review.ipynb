{
 "cells": [
  {
   "cell_type": "code",
   "execution_count": 2,
   "id": "4458f27c",
   "metadata": {},
   "outputs": [
    {
     "name": "stdout",
     "output_type": "stream",
     "text": [
      "                                    content  score                  at\n",
      "0                                v.good app      4 2025-06-08 23:49:09\n",
      "1                             very good app      1 2025-06-08 13:24:23\n",
      "2  Very amazing app indeed. I'm enjoying it      5 2025-06-08 09:52:23\n",
      "3                                      Best      5 2025-06-08 06:25:37\n",
      "4                                  20 years      5 2025-06-08 00:04:48\n",
      "cbe_reviews.csv\n"
     ]
    }
   ],
   "source": [
    "from google_play_scraper import Sort , reviews\n",
    "data, continuation_token= reviews(\"com.combanketh.mobilebanking\",\n",
    "            lang='en',\n",
    "            country=\"et\",\n",
    "            sort= Sort.NEWEST,\n",
    "            count=400\n",
    "\n",
    ")\n",
    "\n",
    "# Convert to DataFrame with selected columns\n",
    "import pandas as pd\n",
    "df = pd.DataFrame(data)[['content', 'score', 'at']]\n",
    "print(df.head())\n",
    "\n",
    "# rename columns \n",
    "df.columns = ['review', 'rating', 'date']\n",
    "\n",
    "# save to csv\n",
    "csv_file = \"cbe_reviews.csv\"\n",
    "df.to_csv(csv_file, index=False)\n",
    "\n",
    "df[\"bank\"]= \"CBE\"\n",
    "df[\"source\"]= \"play store\"\n",
    "\n",
    "df.to_csv(csv_file, index=False)\n",
    "\n",
    "print(csv_file)\n",
    "\n"
   ]
  },
  {
   "cell_type": "markdown",
   "id": "0c38d046",
   "metadata": {},
   "source": [
    "abyssinia bank review"
   ]
  },
  {
   "cell_type": "code",
   "execution_count": 3,
   "id": "470fa207",
   "metadata": {},
   "outputs": [
    {
     "name": "stdout",
     "output_type": "stream",
     "text": [
      "                                             content  score  \\\n",
      "0                                   it's not working      3   \n",
      "1  Hello, I’m facing a problem with the BOA Mobil...      1   \n",
      "2                                        exceptional      5   \n",
      "3                               BoA Mobile good bank      5   \n",
      "4                    this is worest app 24/7 loading      1   \n",
      "\n",
      "                   at  \n",
      "0 2025-06-04 23:57:36  \n",
      "1 2025-06-03 04:21:34  \n",
      "2 2025-06-02 22:32:35  \n",
      "3 2025-06-02 02:25:12  \n",
      "4 2025-06-01 03:51:10  \n",
      "abyssinia_review.csv\n"
     ]
    }
   ],
   "source": [
    "from google_play_scraper import Sort , reviews\n",
    "data, continuation_token= reviews(\"com.boa.boaMobileBanking\",\n",
    "            lang='en',\n",
    "            country=\"et\",\n",
    "            sort= Sort.NEWEST,\n",
    "            count=400\n",
    "\n",
    ")\n",
    "\n",
    "# Convert to DataFrame with selected columns\n",
    "import pandas as pd\n",
    "df = pd.DataFrame(data)[['content', 'score', 'at']]\n",
    "print(df.head())\n",
    "\n",
    "# rename columns \n",
    "df.columns = ['review', 'rating', 'date']\n",
    "\n",
    "# save to csv\n",
    "csv_file = \"abyssinia_review.csv\"\n",
    "df.to_csv(csv_file, index=False)\n",
    "\n",
    "df[\"bank\"]= \"abyssinia\"\n",
    "df[\"source\"]= \"play store\"\n",
    "\n",
    "df.to_csv(csv_file, index=False)\n",
    "\n",
    "print(csv_file)\n",
    "\n"
   ]
  },
  {
   "cell_type": "markdown",
   "id": "167f6fe1",
   "metadata": {},
   "source": [
    "Dashen bank"
   ]
  },
  {
   "cell_type": "code",
   "execution_count": 1,
   "id": "eb0fb619",
   "metadata": {},
   "outputs": [
    {
     "name": "stdout",
     "output_type": "stream",
     "text": [
      "                                             content  score  \\\n",
      "0                      this app is good for you guys      5   \n",
      "1                                                wow      5   \n",
      "2                                              kalid      5   \n",
      "3  I like this mobile banking app very much. Over...      2   \n",
      "4                                               love      3   \n",
      "\n",
      "                   at  \n",
      "0 2025-06-08 23:49:55  \n",
      "1 2025-06-08 13:37:09  \n",
      "2 2025-06-07 12:04:22  \n",
      "3 2025-06-06 22:40:29  \n",
      "4 2025-06-05 12:15:44  \n",
      "dashen_review.csv\n"
     ]
    }
   ],
   "source": [
    "from google_play_scraper import Sort , reviews\n",
    "data, continuation_token= reviews(\"com.dashen.dashensuperapp\",\n",
    "            lang='en',\n",
    "            country=\"et\",\n",
    "            sort= Sort.NEWEST,\n",
    "            count=400\n",
    "\n",
    ")\n",
    "\n",
    "# Convert to DataFrame with selected columns\n",
    "import pandas as pd\n",
    "df = pd.DataFrame(data)[['content', 'score', 'at']]\n",
    "print(df.head())\n",
    "\n",
    "# rename columns \n",
    "df.columns = ['review', 'rating', 'date']\n",
    "\n",
    "# save to csv\n",
    "csv_file = \"dashen_review.csv\"\n",
    "df.to_csv(csv_file, index=False)\n",
    "\n",
    "df[\"bank\"]= \"dashen\"\n",
    "df[\"source\"]= \"play store\"\n",
    "\n",
    "df.to_csv(csv_file, index=False)\n",
    "\n",
    "print(csv_file)\n",
    "\n"
   ]
  },
  {
   "cell_type": "markdown",
   "id": "07d9b855",
   "metadata": {},
   "source": [
    "dashen sentiment analysis"
   ]
  },
  {
   "cell_type": "code",
   "execution_count": 14,
   "id": "8bb8bd9b",
   "metadata": {},
   "outputs": [
    {
     "name": "stdout",
     "output_type": "stream",
     "text": [
      "Saved 400 reviews with sentiment to dashen_reviews_with_sentiment.csv\n",
      "Aggregated sentiment saved to dashen_aggregated_sentiment.csv\n",
      "\n",
      "Sentiment coverage: 100.0 %\n",
      "\n",
      "Aggregated sentiment by rating:\n",
      "        sentiment_score  review_count\n",
      "rating                               \n",
      "1             -0.038294            33\n",
      "2             -0.055529            17\n",
      "3              0.331625            12\n",
      "4              0.302130            23\n",
      "5              0.546239           315\n"
     ]
    }
   ],
   "source": [
    "import pandas as pd\n",
    "from vaderSentiment.vaderSentiment import SentimentIntensityAnalyzer\n",
    "import uuid\n",
    "\n",
    "# Load Dashen Bank reviews\n",
    "df = pd.read_csv('dashen_review.csv')\n",
    "\n",
    "# Initialize VADER sentiment analyzer\n",
    "analyzer = SentimentIntensityAnalyzer()\n",
    "\n",
    "# Function to compute sentiment\n",
    "def get_sentiment(review):\n",
    "    try:\n",
    "        # Handle non-string inputs\n",
    "        review = str(review)\n",
    "        scores = analyzer.polarity_scores(review)\n",
    "        compound = scores['compound']\n",
    "        # Map to positive, negative, or neutral\n",
    "        if compound > 0.05:\n",
    "            return 'positive', compound\n",
    "        elif compound < -0.05:\n",
    "            return 'negative', compound\n",
    "        else:\n",
    "            return 'neutral', compound\n",
    "    except Exception as e:\n",
    "        print(f\"Error processing review: {e}\")\n",
    "        return 'neutral', 0.0\n",
    "\n",
    "# Add review_id and compute sentiment\n",
    "df['review_id'] = [str(uuid.uuid4()) for _ in range(len(df))]\n",
    "df['sentiment_label'], df['sentiment_score'] = zip(*df['review'].apply(get_sentiment))\n",
    "\n",
    "# Aggregate sentiment by rating\n",
    "agg_sentiment = df.groupby('rating').agg({\n",
    "    'sentiment_score': 'mean',\n",
    "    'review_id': 'count'\n",
    "}).rename(columns={'review_id': 'review_count'})\n",
    "\n",
    "# Save results\n",
    "df.to_csv('dashen_reviews_with_sentiment.csv', index=False)\n",
    "agg_sentiment.to_csv('dashen_aggregated_sentiment.csv')\n",
    "print(f\"Saved {len(df)} reviews with sentiment to dashen_reviews_with_sentiment.csv\")\n",
    "print(\"Aggregated sentiment saved to dashen_aggregated_sentiment.csv\")\n",
    "\n",
    "# Display summary\n",
    "print(\"\\nSentiment coverage:\", len(df.dropna(subset=['sentiment_label'])) / len(df) * 100, \"%\")\n",
    "print(\"\\nAggregated sentiment by rating:\")\n",
    "print(agg_sentiment)"
   ]
  },
  {
   "cell_type": "markdown",
   "id": "d6df4ed4",
   "metadata": {},
   "source": [
    "abyssinia sentiment analysis"
   ]
  },
  {
   "cell_type": "code",
   "execution_count": 15,
   "id": "48a5b4fe",
   "metadata": {},
   "outputs": [
    {
     "name": "stdout",
     "output_type": "stream",
     "text": [
      "Saved 400 reviews with sentiment to abyssinia_reviews_with_sentiment.csv\n",
      "Aggregated sentiment saved to abyssinia_aggregated_sentiment.csv\n",
      "\n",
      "Sentiment coverage: 100.0 %\n",
      "\n",
      "Aggregated sentiment by rating:\n",
      "        sentiment_score  review_count\n",
      "rating                               \n",
      "1             -0.159651           164\n",
      "2              0.132891            11\n",
      "3              0.192516            31\n",
      "4              0.333017            18\n",
      "5              0.348110           176\n"
     ]
    }
   ],
   "source": [
    "import pandas as pd\n",
    "from vaderSentiment.vaderSentiment import SentimentIntensityAnalyzer\n",
    "import uuid\n",
    "\n",
    "# Load Dashen Bank reviews\n",
    "df = pd.read_csv('abyssinia_review.csv')\n",
    "\n",
    "# Initialize VADER sentiment analyzer\n",
    "analyzer = SentimentIntensityAnalyzer()\n",
    "\n",
    "# Function to compute sentiment\n",
    "def get_sentiment(review):\n",
    "    try:\n",
    "        # Handle non-string inputs\n",
    "        review = str(review)\n",
    "        scores = analyzer.polarity_scores(review)\n",
    "        compound = scores['compound']\n",
    "        # Map to positive, negative, or neutral\n",
    "        if compound > 0.05:\n",
    "            return 'positive', compound\n",
    "        elif compound < -0.05:\n",
    "            return 'negative', compound\n",
    "        else:\n",
    "            return 'neutral', compound\n",
    "    except Exception as e:\n",
    "        print(f\"Error processing review: {e}\")\n",
    "        return 'neutral', 0.0\n",
    "\n",
    "# Add review_id and compute sentiment\n",
    "df['review_id'] = [str(uuid.uuid4()) for _ in range(len(df))]\n",
    "df['sentiment_label'], df['sentiment_score'] = zip(*df['review'].apply(get_sentiment))\n",
    "\n",
    "# Aggregate sentiment by rating\n",
    "agg_sentiment = df.groupby('rating').agg({\n",
    "    'sentiment_score': 'mean',\n",
    "    'review_id': 'count'\n",
    "}).rename(columns={'review_id': 'review_count'})\n",
    "\n",
    "# Save results\n",
    "df.to_csv('abyssinia_reviews_with_sentiment.csv', index=False)\n",
    "agg_sentiment.to_csv('abyssinia_aggregated_sentiment.csv')\n",
    "print(f\"Saved {len(df)} reviews with sentiment to abyssinia_reviews_with_sentiment.csv\")\n",
    "print(\"Aggregated sentiment saved to abyssinia_aggregated_sentiment.csv\")\n",
    "\n",
    "# Display summary\n",
    "print(\"\\nSentiment coverage:\", len(df.dropna(subset=['sentiment_label'])) / len(df) * 100, \"%\")\n",
    "print(\"\\nAggregated sentiment by rating:\")\n",
    "print(agg_sentiment)"
   ]
  },
  {
   "cell_type": "markdown",
   "id": "014581c1",
   "metadata": {},
   "source": [
    "cbe sentiment analysis"
   ]
  },
  {
   "cell_type": "code",
   "execution_count": 17,
   "id": "c099f77e",
   "metadata": {},
   "outputs": [
    {
     "name": "stdout",
     "output_type": "stream",
     "text": [
      "Saved 400 reviews with sentiment to cbe_reviews_with_sentiment.csv\n",
      "Aggregated sentiment saved to cbe_aggregated_sentiment.csv\n",
      "\n",
      "Sentiment coverage: 100.0 %\n",
      "\n",
      "Aggregated sentiment by rating:\n",
      "        sentiment_score  review_count\n",
      "rating                               \n",
      "1              0.003700            49\n",
      "2              0.053775            16\n",
      "3              0.174140            20\n",
      "4              0.333955            40\n",
      "5              0.425873           275\n"
     ]
    }
   ],
   "source": [
    "import pandas as pd\n",
    "from vaderSentiment.vaderSentiment import SentimentIntensityAnalyzer\n",
    "import uuid\n",
    "\n",
    "# Load Dashen Bank reviews\n",
    "df = pd.read_csv('cbe_reviews.csv')\n",
    "\n",
    "# Initialize VADER sentiment analyzer\n",
    "analyzer = SentimentIntensityAnalyzer()\n",
    "\n",
    "# Function to compute sentiment\n",
    "def get_sentiment(review):\n",
    "    try:\n",
    "        # Handle non-string inputs\n",
    "        review = str(review)\n",
    "        scores = analyzer.polarity_scores(review)\n",
    "        compound = scores['compound']\n",
    "        # Map to positive, negative, or neutral\n",
    "        if compound > 0.05:\n",
    "            return 'positive', compound\n",
    "        elif compound < -0.05:\n",
    "            return 'negative', compound\n",
    "        else:\n",
    "            return 'neutral', compound\n",
    "    except Exception as e:\n",
    "        print(f\"Error processing review: {e}\")\n",
    "        return 'neutral', 0.0\n",
    "\n",
    "# Add review_id and compute sentiment\n",
    "df['review_id'] = [str(uuid.uuid4()) for _ in range(len(df))]\n",
    "df['sentiment_label'], df['sentiment_score'] = zip(*df['review'].apply(get_sentiment))\n",
    "\n",
    "# Aggregate sentiment by rating\n",
    "agg_sentiment = df.groupby('rating').agg({\n",
    "    'sentiment_score': 'mean',\n",
    "    'review_id': 'count'\n",
    "}).rename(columns={'review_id': 'review_count'})\n",
    "\n",
    "# Save results\n",
    "df.to_csv('cbe_reviews_with_sentiment.csv', index=False)\n",
    "agg_sentiment.to_csv('cbe_aggregated_sentiment.csv')\n",
    "print(f\"Saved {len(df)} reviews with sentiment to cbe_reviews_with_sentiment.csv\")\n",
    "print(\"Aggregated sentiment saved to cbe_aggregated_sentiment.csv\")\n",
    "\n",
    "# Display summary\n",
    "print(\"\\nSentiment coverage:\", len(df.dropna(subset=['sentiment_label'])) / len(df) * 100, \"%\")\n",
    "print(\"\\nAggregated sentiment by rating:\")\n",
    "print(agg_sentiment)"
   ]
  },
  {
   "cell_type": "markdown",
   "id": "003216c3",
   "metadata": {},
   "source": []
  }
 ],
 "metadata": {
  "kernelspec": {
   "display_name": "Python 3",
   "language": "python",
   "name": "python3"
  },
  "language_info": {
   "codemirror_mode": {
    "name": "ipython",
    "version": 3
   },
   "file_extension": ".py",
   "mimetype": "text/x-python",
   "name": "python",
   "nbconvert_exporter": "python",
   "pygments_lexer": "ipython3",
   "version": "3.11.9"
  }
 },
 "nbformat": 4,
 "nbformat_minor": 5
}
